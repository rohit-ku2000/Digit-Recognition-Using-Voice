{
 "cells": [
  {
   "cell_type": "code",
   "execution_count": 288,
   "metadata": {},
   "outputs": [],
   "source": [
    "from keras.models import load_model\n",
    "import pyaudio\n",
    "import wave\n",
    "import matplotlib.pyplot as plt\n",
    "import numpy as np\n",
    "import librosa\n",
    "import IPython.display as ipd\n",
    "import os\n",
    "model=load_model('C:\\\\Users\\\\ASUS\\\\aud\\\\best_model1.hdf5')"
   ]
  },
  {
   "cell_type": "code",
   "execution_count": 289,
   "metadata": {},
   "outputs": [],
   "source": [
    "#prediction function\n",
    "classes= ['0', '1', '2', '3', '4', '5', '6', '7', '8', '9']\n",
    "def predict(audio):\n",
    "    audio=np.asarray(audio)\n",
    "    dim_1 = np.shape(audio)[1]\n",
    "    dim_2 = np.shape(audio)[2]\n",
    "    channels = 1\n",
    "    audio = audio.reshape((audio.shape[0], dim_1, dim_2, channels))\n",
    "    prob=model.predict(audio)\n",
    "    index=np.argmax(prob[0])\n",
    "    return classes[index]"
   ]
  },
  {
   "cell_type": "code",
   "execution_count": 378,
   "metadata": {},
   "outputs": [
    {
     "name": "stdout",
     "output_type": "stream",
     "text": [
      "Recording\n",
      "Finished recording\n"
     ]
    }
   ],
   "source": [
    "#record sound(2 seconds)\n",
    "chunk = 1024\n",
    "sample_format = pyaudio.paInt16\n",
    "channels = 2\n",
    "fs = 16000\n",
    "seconds = 2\n",
    "filename = \"output.wav\"\n",
    "\n",
    "p = pyaudio.PyAudio()\n",
    "\n",
    "print('Recording')\n",
    "\n",
    "stream = p.open(format=sample_format,\n",
    "                channels=channels,\n",
    "                rate=fs,\n",
    "                frames_per_buffer=chunk,\n",
    "                input=True)\n",
    "\n",
    "frames = []\n",
    "\n",
    "for i in range(0, int(fs / chunk * seconds)):\n",
    "    data = stream.read(chunk)\n",
    "    frames.append(data)\n",
    "\n",
    "stream.stop_stream()\n",
    "stream.close()\n",
    "\n",
    "p.terminate()\n",
    "print('Finished recording')\n",
    "\n",
    "wf = wave.open(filename, 'wb')\n",
    "wf.setnchannels(channels)\n",
    "wf.setsampwidth(p.get_sample_size(sample_format))\n",
    "wf.setframerate(fs)\n",
    "wf.writeframes(b''.join(frames))\n",
    "wf.close()"
   ]
  },
  {
   "cell_type": "code",
   "execution_count": 379,
   "metadata": {},
   "outputs": [],
   "source": [
    "#util functions\n",
    "def MA(x, N):\n",
    "    return np.convolve(x, np.ones((N,))/N)[(N-1):]\n",
    "def filt_amp(x):\n",
    "    r=[]\n",
    "    for i in x:\n",
    "        if i<np.max(x)/10:\n",
    "            r.append(0)\n",
    "        else:\n",
    "            r.append(i)\n",
    "    return(np.asarray(r))\n",
    "def bound(y):\n",
    "    x=y\n",
    "    i1=np.argmax(x)\n",
    "    bound=[]\n",
    "    l=0\n",
    "    r=1\n",
    "    while x[i1-l]>0:\n",
    "        x[i1-l]=0\n",
    "        l=l+1\n",
    "    while x[i1+r]>0:\n",
    "        x[i1+r]=0\n",
    "        r=r+1\n",
    "    bound.append(i1-l)\n",
    "    bound.append(i1+r)\n",
    "    \n",
    "    i2=np.argmax(x)\n",
    "    l=0\n",
    "    r=1\n",
    "    while x[i2-l]>0:\n",
    "        x[i2-l]=0\n",
    "        l=l+1\n",
    "    while x[i2+r]>0:\n",
    "        x[i2+r]=0\n",
    "        r=r+1\n",
    "    bound.append(i2-l)\n",
    "    bound.append(i2+r)\n",
    "    bound=np.sort(np.asarray(bound))\n",
    "    return(bound)"
   ]
  },
  {
   "cell_type": "code",
   "execution_count": 380,
   "metadata": {},
   "outputs": [],
   "source": [
    "#load prediction sound file\n",
    "os.listdir('\\\\')\n",
    "filepath='output.wav'"
   ]
  },
  {
   "cell_type": "code",
   "execution_count": 381,
   "metadata": {},
   "outputs": [
    {
     "data": {
      "image/png": "[encoded data removed]",
      "text/plain": [
       "<Figure size 432x288 with 1 Axes>"
      ]
     },
     "metadata": {
      "needs_background": "light"
     },
     "output_type": "display_data"
    },
    {
     "data": {
      "image/png": "[encoded data removed]",
      "text/plain": [
       "<Figure size 432x288 with 1 Axes>"
      ]
     },
     "metadata": {
      "needs_background": "light"
     },
     "output_type": "display_data"
    }
   ],
   "source": [
    "#break the sound file into two digit form\n",
    "samples, sample_rate = librosa.load(filepath, sr = 16000)\n",
    "plt.plot(np.asarray(samples))\n",
    "plt.show()\n",
    "ma_ord=1000\n",
    "zr1=np.abs(samples)\n",
    "plt.plot(filt_amp(MA(MA(np.asarray(zr1),ma_ord),ma_ord)))\n",
    "plt.show()\n",
    "l1,r1,l2,r2=bound(filt_amp(MA(MA(np.asarray(zr1),ma_ord),ma_ord)))+ma_ord\n",
    "l1=l1-ma_ord\n",
    "r1=r1+ma_ord\n",
    "l2=l2-ma_ord\n",
    "r2=r2+ma_ord\n",
    "samp1=samples[l1:r1]\n",
    "samp2=samples[l2:r2]"
   ]
  },
  {
   "cell_type": "code",
   "execution_count": 382,
   "metadata": {},
   "outputs": [],
   "source": [
    "#extract MFCC features from both the sound samples\n",
    "mfcc1 = librosa.feature.mfcc(samp1, sr=8000)\n",
    "pad_width = 40 - mfcc1.shape[1]\n",
    "mfcc1 = np.pad(mfcc1, pad_width=((0, 0), (0, pad_width)), mode='mean')\n",
    "sam1=[]\n",
    "sam1.append(mfcc1)\n",
    "mfcc2 = librosa.feature.mfcc(samp2, sr=8000)\n",
    "pad_width = 40 - mfcc2.shape[1]\n",
    "mfcc2 = np.pad(mfcc2, pad_width=((0, 0), (0, pad_width)), mode='mean')\n",
    "sam2=[]\n",
    "sam2.append(mfcc2)"
   ]
  },
  {
   "cell_type": "code",
   "execution_count": 383,
   "metadata": {},
   "outputs": [
    {
     "name": "stdout",
     "output_type": "stream",
     "text": [
      "43\n"
     ]
    },
    {
     "data": {
      "image/png": "[encoded data removed]",
      "text/plain": [
       "<Figure size 432x288 with 1 Axes>"
      ]
     },
     "metadata": {
      "needs_background": "light"
     },
     "output_type": "display_data"
    }
   ],
   "source": [
    "#predict both of them\n",
    "d1=predict(sam1)\n",
    "d2=predict(sam2)\n",
    "print(d1+\"\"+d2)\n",
    "plt.axvline(x=l1,color='r')\n",
    "plt.axvline(x=r1,color='r')\n",
    "plt.axvline(x=l2,color='r')\n",
    "plt.axvline(x=r2,color='r')\n",
    "plt.text(l1+1000,np.max(samples)/1.2,d1,fontsize=15,color='g')\n",
    "plt.text(l2+1000,np.max(samples)/1.2,d2,fontsize=15,color='g')\n",
    "plt.plot(np.asarray(samples))\n",
    "\n",
    "plt.show()"
   ]
  },
  {
   "cell_type": "code",
   "execution_count": 384,
   "metadata": {},
   "outputs": [],
   "source": [
    "#delete the file to test again\n",
    "os.remove(\"output.wav\")"
   ]
  },
  {
   "cell_type": "code",
   "execution_count": null,
   "metadata": {},
   "outputs": [],
   "source": []
  }
 ],
 "metadata": {
  "kernelspec": {
   "display_name": "Python 3",
   "language": "python",
   "name": "python3"
  },
  "language_info": {
   "codemirror_mode": {
    "name": "ipython",
    "version": 3
   },
   "file_extension": ".py",
   "mimetype": "text/x-python",
   "name": "python",
   "nbconvert_exporter": "python",
   "pygments_lexer": "ipython3",
   "version": "3.6.10"
  }
 },
 "nbformat": 4,
 "nbformat_minor": 4
}
